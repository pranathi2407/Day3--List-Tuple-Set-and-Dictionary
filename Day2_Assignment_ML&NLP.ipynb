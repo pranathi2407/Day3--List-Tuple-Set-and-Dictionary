{
 "cells": [
  {
   "cell_type": "markdown",
   "id": "5e246770",
   "metadata": {},
   "source": [
    "# Create a List, tuple and Dictionary with 5 elements in it and how to access few elements based on the index. Try  with different examples "
   ]
  },
  {
   "cell_type": "markdown",
   "id": "d55af3df",
   "metadata": {},
   "source": [
    "# List Example"
   ]
  },
  {
   "cell_type": "code",
   "execution_count": 1,
   "id": "7d641129",
   "metadata": {},
   "outputs": [
    {
     "name": "stdout",
     "output_type": "stream",
     "text": [
      "List Element at Index 0: 10\n",
      "List Element at Index 3: 40\n",
      "List Element at Index -1: 50\n"
     ]
    }
   ],
   "source": [
    "# Creating a List with 5 elements\n",
    "my_list = [10, 20, 30, 40, 50]\n",
    "\n",
    "# Accessing elements using index\n",
    "print(\"List Element at Index 0:\", my_list[0])  # Accessing first element\n",
    "print(\"List Element at Index 3:\", my_list[3])  # Accessing fourth element\n",
    "print(\"List Element at Index -1:\", my_list[-1])  # Accessing last element\n"
   ]
  },
  {
   "cell_type": "markdown",
   "id": "872966ed",
   "metadata": {},
   "source": [
    "# Tuple Example"
   ]
  },
  {
   "cell_type": "code",
   "execution_count": 2,
   "id": "1051b9b5",
   "metadata": {},
   "outputs": [
    {
     "name": "stdout",
     "output_type": "stream",
     "text": [
      "Tuple Element at Index 1: 200\n",
      "Tuple Element at Index 4: 500\n",
      "Tuple Element at Index -2: 400\n"
     ]
    }
   ],
   "source": [
    "# Creating a Tuple with 5 elements\n",
    "my_tuple = (100, 200, 300, 400, 500)\n",
    "\n",
    "# Accessing elements using index\n",
    "print(\"Tuple Element at Index 1:\", my_tuple[1])  # Accessing second element\n",
    "print(\"Tuple Element at Index 4:\", my_tuple[4])  # Accessing fifth element\n",
    "print(\"Tuple Element at Index -2:\", my_tuple[-2])  # Accessing second last element\n"
   ]
  },
  {
   "cell_type": "markdown",
   "id": "250980bb",
   "metadata": {},
   "source": [
    "# Dictionary Example"
   ]
  },
  {
   "cell_type": "code",
   "execution_count": 3,
   "id": "54fed0f0",
   "metadata": {},
   "outputs": [
    {
     "name": "stdout",
     "output_type": "stream",
     "text": [
      "Dictionary Value for 'name': Alice\n",
      "Dictionary Value for 'job': Engineer\n"
     ]
    }
   ],
   "source": [
    "# Creating a Dictionary with 5 elements\n",
    "my_dict = {\"name\": \"Alice\", \"age\": 25, \"city\": \"New York\", \"job\": \"Engineer\", \"salary\": 75000}\n",
    "\n",
    "# Accessing values using keys (no index as dictionaries are unordered)\n",
    "print(\"Dictionary Value for 'name':\", my_dict[\"name\"])  # Accessing value for key 'name'\n",
    "print(\"Dictionary Value for 'job':\", my_dict[\"job\"])  # Accessing value for key 'job'\n"
   ]
  },
  {
   "cell_type": "code",
   "execution_count": null,
   "id": "fed1d7af",
   "metadata": {},
   "outputs": [],
   "source": []
  }
 ],
 "metadata": {
  "kernelspec": {
   "display_name": "Python 3 (ipykernel)",
   "language": "python",
   "name": "python3"
  },
  "language_info": {
   "codemirror_mode": {
    "name": "ipython",
    "version": 3
   },
   "file_extension": ".py",
   "mimetype": "text/x-python",
   "name": "python",
   "nbconvert_exporter": "python",
   "pygments_lexer": "ipython3",
   "version": "3.9.13"
  }
 },
 "nbformat": 4,
 "nbformat_minor": 5
}
